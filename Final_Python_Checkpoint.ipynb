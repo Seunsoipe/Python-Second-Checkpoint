{
  "nbformat": 4,
  "nbformat_minor": 0,
  "metadata": {
    "colab": {
      "provenance": [],
      "authorship_tag": "ABX9TyPHly0A5EiZ37cuPxoiUUe8",
      "include_colab_link": true
    },
    "kernelspec": {
      "name": "python3",
      "display_name": "Python 3"
    },
    "language_info": {
      "name": "python"
    }
  },
  "cells": [
    {
      "cell_type": "markdown",
      "metadata": {
        "id": "view-in-github",
        "colab_type": "text"
      },
      "source": [
        "<a href=\"https://colab.research.google.com/github/Seunsoipe/Python-Second-Checkpoint/blob/main/Final_Python_Checkpoint.ipynb\" target=\"_parent\"><img src=\"https://colab.research.google.com/assets/colab-badge.svg\" alt=\"Open In Colab\"/></a>"
      ]
    },
    {
      "cell_type": "markdown",
      "source": [
        "Q1. Display numbers from -10 to -1 using for loop"
      ],
      "metadata": {
        "id": "Fm6rddkSyFxE"
      }
    },
    {
      "cell_type": "code",
      "execution_count": 21,
      "metadata": {
        "colab": {
          "base_uri": "https://localhost:8080/"
        },
        "id": "OwTFqKyqxYB1",
        "outputId": "b0ed468e-c82c-4d12-8c0c-d3fbf6b158af"
      },
      "outputs": [
        {
          "output_type": "stream",
          "name": "stdout",
          "text": [
            "-10\n",
            "-9\n",
            "-8\n",
            "-7\n",
            "-6\n",
            "-5\n",
            "-4\n",
            "-3\n",
            "-2\n",
            "-1\n"
          ]
        }
      ],
      "source": [
        "for i in range(-10,-0): \n",
        "    print(i)"
      ]
    },
    {
      "cell_type": "markdown",
      "source": [
        "Q2. Given a number count the total number of digits in a number, for example, the number is 75869, so the output should be 5"
      ],
      "metadata": {
        "id": "0VMyHGhJyzvJ"
      }
    },
    {
      "cell_type": "code",
      "source": [
        "num = 75869\n",
        "count = 0\n",
        "while num != 0:\n",
        "    num = num // 10\n",
        "    count = count + 1\n",
        "print(\"Total digits are:\", count)"
      ],
      "metadata": {
        "colab": {
          "base_uri": "https://localhost:8080/"
        },
        "id": "UVMSetbMy4QY",
        "outputId": "05b25c63-6814-4b15-b29d-4aaa5f9e3b7f"
      },
      "execution_count": 19,
      "outputs": [
        {
          "output_type": "stream",
          "name": "stdout",
          "text": [
            "Total digits are: 5\n"
          ]
        }
      ]
    },
    {
      "cell_type": "markdown",
      "source": [
        "Q3. Write a function which Displays the cube of the number up to a given integer, for example the number is 2 the cube should be 8"
      ],
      "metadata": {
        "id": "iYqxugXE2KIC"
      }
    },
    {
      "cell_type": "code",
      "source": [
        "number = int(input(\" Please Enter any numeric Value : \"))\n",
        "\n",
        "cube = number * number * number\n",
        "\n",
        "print(\"The Cube of a Given Number {0}  = {1}\".format(number, cube))"
      ],
      "metadata": {
        "colab": {
          "base_uri": "https://localhost:8080/"
        },
        "id": "AkBss3kf2Kwq",
        "outputId": "c261bd08-ea31-4e5b-82c4-9f97e5f00f15"
      },
      "execution_count": 6,
      "outputs": [
        {
          "output_type": "stream",
          "name": "stdout",
          "text": [
            " Please Enter any numeric Value : 2\n",
            "The Cube of a Given Number 2  = 8\n"
          ]
        }
      ]
    },
    {
      "cell_type": "markdown",
      "source": [
        "Q4. Given two integer numbers return their product. If the product is greater than 1000, then return their sum"
      ],
      "metadata": {
        "id": "2PZAN4UN3osJ"
      }
    },
    {
      "cell_type": "code",
      "source": [
        "num1=int(input(\"enter no. 1: \" ))\n",
        "\n",
        "num2=int(input(\"enter no. 2: \"))\n",
        "\n",
        "product = num1*num2\n",
        "\n",
        "res= (num1+num2) if product > 1000 else product\n",
        "\n",
        "print(res)"
      ],
      "metadata": {
        "colab": {
          "base_uri": "https://localhost:8080/"
        },
        "id": "w0gq5hN63h2F",
        "outputId": "7c6db4ef-6eaa-406c-a3f9-088b7d628257"
      },
      "execution_count": 11,
      "outputs": [
        {
          "output_type": "stream",
          "name": "stdout",
          "text": [
            "enter no. 1: 100\n",
            "enter no. 2: 600\n",
            "700\n"
          ]
        }
      ]
    },
    {
      "cell_type": "markdown",
      "source": [
        "Q5. Given a list of numbers, return True if first and last number of a list is same"
      ],
      "metadata": {
        "id": "2ZDpNUS850fn"
      }
    },
    {
      "cell_type": "code",
      "source": [
        "list_of_numbers = [7, 4, 3, 2, 7]\n",
        "\n",
        "if list_of_numbers[0] == list_of_numbers[-1]:\n",
        "  print(True)\n",
        "else:\n",
        "  print(False)\n",
        "\n",
        "\n"
      ],
      "metadata": {
        "colab": {
          "base_uri": "https://localhost:8080/"
        },
        "id": "H-BNdUUE59g8",
        "outputId": "b31e0118-f2fc-44f9-c421-f652fdfa65f0"
      },
      "execution_count": 22,
      "outputs": [
        {
          "output_type": "stream",
          "name": "stdout",
          "text": [
            "True\n"
          ]
        }
      ]
    },
    {
      "cell_type": "markdown",
      "source": [
        "Q6. Given a two list of numbers create a new list such that new list should contain only odd numbers from the first list and even numbers from the second list, for example list1 =  [10, 20, 23, 11, 17] and list 2 = [13, 43, 24, 36, 12]  => result should be [23, 11, 17, 24, 36, 12]"
      ],
      "metadata": {
        "id": "EixgHdnb7rFd"
      }
    },
    {
      "cell_type": "code",
      "source": [
        "List1 = [10, 20, 23, 11, 17]\n",
        "List2 = [13, 43, 24, 36, 12]\n",
        "List3 = [n for n in List1 if n%2]+[n for n in List2 if not n%2]\n",
        "print(List3)"
      ],
      "metadata": {
        "colab": {
          "base_uri": "https://localhost:8080/"
        },
        "id": "RxDZXpwp7vnX",
        "outputId": "ba32ce25-2042-4d99-a865-ffcce694db0a"
      },
      "execution_count": 20,
      "outputs": [
        {
          "output_type": "stream",
          "name": "stdout",
          "text": [
            "[23, 11, 17, 24, 36, 12]\n"
          ]
        }
      ]
    },
    {
      "cell_type": "markdown",
      "source": [
        "Q7. Write a function which Iterates a given list and counts the occurrence of each element and creates a dictionary to show the count of each element, for example: input list  [11, 45, 8, 11, 23, 45, 23, 45, 89]=> result should be {11: 2, 45: 3, 8: 1, 23: 2, 89: 1}"
      ],
      "metadata": {
        "id": "bHOKW4cg8nBR"
      }
    },
    {
      "cell_type": "code",
      "source": [
        "def CountFreq(li):\n",
        "  freq = {}\n",
        "  for items in li:\n",
        "    freq[items] = li.count(items)\n",
        "  print(freq)\n",
        "li =[11, 45, 8, 11, 23, 45, 23, 45, 89]\n",
        "CountFreq(li)"
      ],
      "metadata": {
        "colab": {
          "base_uri": "https://localhost:8080/"
        },
        "id": "DSo-NoAu8wLW",
        "outputId": "c91ab54b-6c4a-461c-af21-c2e5b8254ed8"
      },
      "execution_count": 16,
      "outputs": [
        {
          "output_type": "stream",
          "name": "stdout",
          "text": [
            "{11: 2, 45: 3, 8: 1, 23: 2, 89: 1}\n"
          ]
        }
      ]
    },
    {
      "cell_type": "markdown",
      "source": [
        "Q8. Write a function which finds the intersection of two sets and removes common elements from the first set. for example: First Set  {65, 42, 78, 83, 23, 57, 29} and Second Set  {67, 73, 43, 48, 83, 57, 29} => Intersection should be  {57, 83, 29} and First Set after removing common element  {65, 42, 78, 23}"
      ],
      "metadata": {
        "id": "bGZZuRfb_BE3"
      }
    },
    {
      "cell_type": "code",
      "source": [
        "first_set = {65, 42, 78, 83, 23, 57, 29}\n",
        "second_set = {67, 73, 43, 48, 83, 57, 29}\n",
        "\n",
        "print(\"First Set \", first_set)\n",
        "print(\"Second Set \", second_set)\n",
        "\n",
        "intersection = first_set.intersection(second_set)\n",
        "print(\"Intersection is \", intersection)\n",
        "for item in intersection:\n",
        "    first_set.remove(item)\n",
        "\n",
        "print(\"First Set after removing common element \", first_set)"
      ],
      "metadata": {
        "colab": {
          "base_uri": "https://localhost:8080/"
        },
        "id": "xse9Jo-f_DHf",
        "outputId": "d56df2c9-c8c0-4da0-f48c-3945b9dfcb7e"
      },
      "execution_count": 17,
      "outputs": [
        {
          "output_type": "stream",
          "name": "stdout",
          "text": [
            "First Set  {65, 42, 78, 83, 23, 57, 29}\n",
            "Second Set  {67, 73, 43, 48, 83, 57, 29}\n",
            "Intersection is  {57, 83, 29}\n",
            "First Set after removing common element  {65, 42, 78, 23}\n"
          ]
        }
      ]
    }
  ]
}