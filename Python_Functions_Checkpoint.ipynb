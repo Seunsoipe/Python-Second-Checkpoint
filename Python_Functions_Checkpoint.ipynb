{
  "nbformat": 4,
  "nbformat_minor": 0,
  "metadata": {
    "colab": {
      "provenance": [],
      "authorship_tag": "ABX9TyPaxBs8a9MmQ1ta4hWcD16m",
      "include_colab_link": true
    },
    "kernelspec": {
      "name": "python3",
      "display_name": "Python 3"
    },
    "language_info": {
      "name": "python"
    }
  },
  "cells": [
    {
      "cell_type": "markdown",
      "metadata": {
        "id": "view-in-github",
        "colab_type": "text"
      },
      "source": [
        "<a href=\"https://colab.research.google.com/github/Seunsoipe/Python-Second-Checkpoint/blob/main/Python_Functions_Checkpoint.ipynb\" target=\"_parent\"><img src=\"https://colab.research.google.com/assets/colab-badge.svg\" alt=\"Open In Colab\"/></a>"
      ]
    },
    {
      "cell_type": "markdown",
      "source": [
        "Q1: Write a Python function to find the Max of three numbers."
      ],
      "metadata": {
        "id": "EUc-rsSAXP_m"
      }
    },
    {
      "cell_type": "code",
      "execution_count": 1,
      "metadata": {
        "colab": {
          "base_uri": "https://localhost:8080/"
        },
        "id": "vOwX191XXOb2",
        "outputId": "6e5576c9-3a4a-4146-ec3c-e6629534a469"
      },
      "outputs": [
        {
          "output_type": "stream",
          "name": "stdout",
          "text": [
            "max number is  90\n"
          ]
        }
      ],
      "source": [
        "def max( x, y ):\n",
        "\n",
        "    if x > y:\n",
        "\n",
        "        return x\n",
        "\n",
        "    return y\n",
        "\n",
        "def maxx( x, y, z ):\n",
        "\n",
        "    return max( x, max( y, z ) )\n",
        "\n",
        "print(\"max number is \",maxx(3, 6, 90))"
      ]
    },
    {
      "cell_type": "markdown",
      "source": [
        "Q2: Write a function calculation() such that it can accept two variables and calculate the addition and subtraction of it. And also it must return both addition and subtraction in a single return call. For example: calculation(40, 10) should produce 50, 30"
      ],
      "metadata": {
        "id": "5-52kL66YB4G"
      }
    },
    {
      "cell_type": "code",
      "source": [
        "def calculate(a, b):\n",
        "    return a + b, a - b\n",
        "\n",
        "\n",
        "answer = calculate(40, 10)\n",
        "print(answer)"
      ],
      "metadata": {
        "colab": {
          "base_uri": "https://localhost:8080/"
        },
        "id": "0T8r3Z3PYEmC",
        "outputId": "111cecb9-0e0f-428a-9454-d716120fe2b2"
      },
      "execution_count": 5,
      "outputs": [
        {
          "output_type": "stream",
          "name": "stdout",
          "text": [
            "(50, 30)\n"
          ]
        }
      ]
    },
    {
      "cell_type": "markdown",
      "source": [
        "Q3:  Write a function that sums the elements of a list of integers.\n",
        "\n",
        "* Write a function that multiplies the elements of an integer list.\n",
        "\n",
        "* Use the two functions to sum the elements whose position is an even number (0,2,4…) and multiply the rest.\n",
        "\n",
        "Hint: Consider extracting two lists from a first list "
      ],
      "metadata": {
        "id": "wKeFQhXdZzTv"
      }
    },
    {
      "cell_type": "code",
      "source": [
        "def Summation(num):\n",
        "    Sum = 0\n",
        "    for i in num:\n",
        "        Sum = Sum + i\n",
        "    return Sum\n",
        "\n",
        "print(Summation([1, 2, 3, 4, 5, 6, 7, 8,9,10]))  \n",
        "\n",
        "def Multiply(num):\n",
        "    Prod = 1\n",
        "    for i in num:\n",
        "        Prod *= i\n",
        "    return Prod\n",
        "\n",
        "print(Multiply([1, 2, 3, 4, 5, 6, 7, 8,9,10]))    \n",
        "\n",
        "num = [1, 2, 3, 4, 5, 6, 7, 8,9,10]\n",
        "\n",
        "Newlist = list(filter(lambda x: x%2 == 0, num)) \n",
        "\n",
        "print(Summation(Newlist))\n",
        "\n",
        "Newlist2 = list(filter(lambda x: x%2 !=0, num))\n",
        "\n",
        "print(Multiply(Newlist2))"
      ],
      "metadata": {
        "colab": {
          "base_uri": "https://localhost:8080/"
        },
        "id": "ELiMU1_RCwIM",
        "outputId": "2d9eb25b-dd27-46f8-a88c-1e17b628ad12"
      },
      "execution_count": 2,
      "outputs": [
        {
          "output_type": "stream",
          "name": "stdout",
          "text": [
            "55\n",
            "3628800\n",
            "30\n",
            "945\n"
          ]
        }
      ]
    },
    {
      "cell_type": "code",
      "source": [],
      "metadata": {
        "id": "K_5I7QwG6BbN"
      },
      "execution_count": null,
      "outputs": []
    },
    {
      "cell_type": "markdown",
      "source": [
        "Q4: Write a Python program that accepts a hyphen-separated sequence of words as input and prints the words in a hyphen-separated sequence after sorting them alphabetically.\n",
        "\n",
        "Sample Items : green-red-yellow-black-white\n",
        "\n",
        "Expected Result : black-green-red-white-yellow\n",
        "\n",
        "Hint : There's a sort function for lists"
      ],
      "metadata": {
        "id": "w-61yhyOurve"
      }
    },
    {
      "cell_type": "code",
      "source": [
        "items=[n for n in input().split('-')]\n",
        "items.sort()\n",
        "print('-'.join(items))"
      ],
      "metadata": {
        "colab": {
          "base_uri": "https://localhost:8080/"
        },
        "id": "IkyDw3FwuuZh",
        "outputId": "1378be6b-1cbf-461e-89fd-47d2879df60a"
      },
      "execution_count": 1,
      "outputs": [
        {
          "output_type": "stream",
          "name": "stdout",
          "text": [
            "green-red-yellow-black-white\n",
            "black-green-red-white-yellow\n"
          ]
        }
      ]
    }
  ]
}