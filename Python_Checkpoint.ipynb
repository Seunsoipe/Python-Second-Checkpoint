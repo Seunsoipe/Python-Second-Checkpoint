{
  "nbformat": 4,
  "nbformat_minor": 0,
  "metadata": {
    "colab": {
      "provenance": [],
      "authorship_tag": "ABX9TyPiPIGufqOH3Tt93KzI4hVp",
      "include_colab_link": true
    },
    "kernelspec": {
      "name": "python3",
      "display_name": "Python 3"
    },
    "language_info": {
      "name": "python"
    }
  },
  "cells": [
    {
      "cell_type": "markdown",
      "metadata": {
        "id": "view-in-github",
        "colab_type": "text"
      },
      "source": [
        "<a href=\"https://colab.research.google.com/github/Seunsoipe/Python-Second-Checkpoint/blob/main/Python_Checkpoint.ipynb\" target=\"_parent\"><img src=\"https://colab.research.google.com/assets/colab-badge.svg\" alt=\"Open In Colab\"/></a>"
      ]
    },
    {
      "cell_type": "code",
      "execution_count": null,
      "metadata": {
        "id": "jQhAm4gkW3nv"
      },
      "outputs": [],
      "source": [
        "#Question1: \n",
        "\n",
        "#Write a Python program to multiplies all the items in a list.\n",
        "\n",
        "#for example list=[2, 3, 6]\n",
        "\n",
        "#result = 36"
      ]
    },
    {
      "cell_type": "code",
      "source": [
        "def multiply_list(items):\n",
        "    Q = 1\n",
        "    for x in items:\n",
        "        Q *= x\n",
        "    return Q\n",
        "print(multiply_list([2,3,6]))"
      ],
      "metadata": {
        "colab": {
          "base_uri": "https://localhost:8080/"
        },
        "id": "rf1TPdQGXZqN",
        "outputId": "35113ecb-956d-48c1-ebe4-5bf85b86b5de"
      },
      "execution_count": 3,
      "outputs": [
        {
          "output_type": "stream",
          "name": "stdout",
          "text": [
            "36\n"
          ]
        }
      ]
    },
    {
      "cell_type": "code",
      "source": [
        "#Question2\n",
        "\n",
        "#Write a Python program to combine two dictionary adding values for common keys.\n",
        "\n",
        "#d1 = {'a': 100, 'b': 200, 'c':300}\n",
        "\n",
        "#d2 = {'a': 300, 'b': 200, 'd':400}\n",
        "\n",
        "#Expected output: {'a': 400, 'b': 400, 'd': 400, 'c': 300}"
      ],
      "metadata": {
        "id": "oVO7ZE2NYLTu"
      },
      "execution_count": null,
      "outputs": []
    },
    {
      "cell_type": "code",
      "source": [
        "from collections import Counter\n",
        "d1 = {'a': 100, 'b': 200, 'c':300}\n",
        "d2 = {'a': 300, 'b': 200, 'd':400}\n",
        "d3 = Counter(d1) + Counter(d2)\n",
        "print(d3)"
      ],
      "metadata": {
        "colab": {
          "base_uri": "https://localhost:8080/"
        },
        "id": "HNe9dktaYYlc",
        "outputId": "ca91b87f-7e17-40ea-f8cd-1ed5826ee2d9"
      },
      "execution_count": 5,
      "outputs": [
        {
          "output_type": "stream",
          "name": "stdout",
          "text": [
            "Counter({'a': 400, 'b': 400, 'd': 400, 'c': 300})\n"
          ]
        }
      ]
    },
    {
      "cell_type": "code",
      "source": [
        "#Question 3\n",
        "\n",
        "#Question: With a given integral number n, write a program to generate a dictionary that contains (i, i*i) such that \n",
        "#is an integral number between 1 and n (both included). and then the program should print the dictionary. \n",
        "#Suppose the following input is supplied to the program: 8 Then, the output should be: {1: 1, 2: 4, 3: 9, 4: 16, 5: 25, 6: 36, 7: 49, 8: 64}"
      ],
      "metadata": {
        "id": "miRooUixY8Sy"
      },
      "execution_count": null,
      "outputs": []
    },
    {
      "cell_type": "code",
      "source": [
        "number = int(input(\"Type a number: \"))\n",
        "\n",
        "numberDict = {}\n",
        "for i in range(1, number+1):\n",
        "    numberDict[i] = i*i\n",
        "\n",
        "print(numberDict)"
      ],
      "metadata": {
        "colab": {
          "base_uri": "https://localhost:8080/"
        },
        "id": "x4sslaHlZOpy",
        "outputId": "bd987b48-c7cb-441e-a3c4-d459aa066ed1"
      },
      "execution_count": 6,
      "outputs": [
        {
          "output_type": "stream",
          "name": "stdout",
          "text": [
            "Type a number: 8\n",
            "{1: 1, 2: 4, 3: 9, 4: 16, 5: 25, 6: 36, 7: 49, 8: 64}\n"
          ]
        }
      ]
    }
  ]
}